{
 "cells": [
  {
   "cell_type": "markdown",
   "metadata": {},
   "source": [
    "The data comes from the Kaggle Molecular Machine Learning competition: https://www.kaggle.com/competitions/molecular-machine-learning/data\n",
    "\n",
    "The objective of this project is to predict the variable 'T80' given the other features in the dataset."
   ]
  },
  {
   "cell_type": "code",
   "execution_count": 1,
   "metadata": {},
   "outputs": [],
   "source": [
    "import pandas as pd\n",
    "import numpy as np"
   ]
  },
  {
   "cell_type": "code",
   "execution_count": null,
   "metadata": {},
   "outputs": [
    {
     "data": {
      "text/html": [
       "<div>\n",
       "<style scoped>\n",
       "    .dataframe tbody tr th:only-of-type {\n",
       "        vertical-align: middle;\n",
       "    }\n",
       "\n",
       "    .dataframe tbody tr th {\n",
       "        vertical-align: top;\n",
       "    }\n",
       "\n",
       "    .dataframe thead th {\n",
       "        text-align: right;\n",
       "    }\n",
       "</style>\n",
       "<table border=\"1\" class=\"dataframe\">\n",
       "  <thead>\n",
       "    <tr style=\"text-align: right;\">\n",
       "      <th></th>\n",
       "      <th>Batch_ID</th>\n",
       "      <th>T80</th>\n",
       "      <th>Smiles</th>\n",
       "      <th>Mass</th>\n",
       "      <th>HAcceptors</th>\n",
       "      <th>HDonors</th>\n",
       "      <th>LogP</th>\n",
       "      <th>Asphericity</th>\n",
       "      <th>Rg</th>\n",
       "      <th>TPSA</th>\n",
       "      <th>...</th>\n",
       "      <th>SDOS4.5</th>\n",
       "      <th>SDOS4.6</th>\n",
       "      <th>SDOS4.7</th>\n",
       "      <th>SDOS4.8</th>\n",
       "      <th>SDOS4.9</th>\n",
       "      <th>SDOS5.0</th>\n",
       "      <th>SDOS5.1</th>\n",
       "      <th>SDOS5.2</th>\n",
       "      <th>SDOS5.3</th>\n",
       "      <th>SDOS5.4</th>\n",
       "    </tr>\n",
       "  </thead>\n",
       "  <tbody>\n",
       "    <tr>\n",
       "      <th>0</th>\n",
       "      <td>Train-01</td>\n",
       "      <td>103.86</td>\n",
       "      <td>CCCCCCCCCCCCc1ccsc1-c1ccc(-c2cccs2)cc1</td>\n",
       "      <td>410.692</td>\n",
       "      <td>2</td>\n",
       "      <td>0</td>\n",
       "      <td>9.6070</td>\n",
       "      <td>0.301361</td>\n",
       "      <td>5.187321</td>\n",
       "      <td>0.00</td>\n",
       "      <td>...</td>\n",
       "      <td>1.717761</td>\n",
       "      <td>1.970186</td>\n",
       "      <td>1.760071</td>\n",
       "      <td>1.224983</td>\n",
       "      <td>0.664733</td>\n",
       "      <td>0.282353</td>\n",
       "      <td>0.096763</td>\n",
       "      <td>0.034589</td>\n",
       "      <td>0.030793</td>\n",
       "      <td>0.057340</td>\n",
       "    </tr>\n",
       "    <tr>\n",
       "      <th>1</th>\n",
       "      <td>Train-02</td>\n",
       "      <td>101.13</td>\n",
       "      <td>CCCCCCCCCCCCc1ccsc1-c1cccs1</td>\n",
       "      <td>334.594</td>\n",
       "      <td>2</td>\n",
       "      <td>0</td>\n",
       "      <td>7.9400</td>\n",
       "      <td>0.367472</td>\n",
       "      <td>4.141425</td>\n",
       "      <td>0.00</td>\n",
       "      <td>...</td>\n",
       "      <td>0.012396</td>\n",
       "      <td>0.046031</td>\n",
       "      <td>0.133124</td>\n",
       "      <td>0.299840</td>\n",
       "      <td>0.525958</td>\n",
       "      <td>0.718549</td>\n",
       "      <td>0.764711</td>\n",
       "      <td>0.634854</td>\n",
       "      <td>0.414866</td>\n",
       "      <td>0.225909</td>\n",
       "    </tr>\n",
       "    <tr>\n",
       "      <th>2</th>\n",
       "      <td>Train-03</td>\n",
       "      <td>78.30</td>\n",
       "      <td>CN1CCN(S(=O)(=O)c2ccc(-c3ccc(-c4cccs4)cc3)cc2)CC1</td>\n",
       "      <td>398.553</td>\n",
       "      <td>4</td>\n",
       "      <td>0</td>\n",
       "      <td>4.0182</td>\n",
       "      <td>0.799589</td>\n",
       "      <td>5.368024</td>\n",
       "      <td>40.62</td>\n",
       "      <td>...</td>\n",
       "      <td>2.421162</td>\n",
       "      <td>2.703267</td>\n",
       "      <td>2.352276</td>\n",
       "      <td>1.595867</td>\n",
       "      <td>0.845839</td>\n",
       "      <td>0.354620</td>\n",
       "      <td>0.127878</td>\n",
       "      <td>0.060600</td>\n",
       "      <td>0.064782</td>\n",
       "      <td>0.098908</td>\n",
       "    </tr>\n",
       "    <tr>\n",
       "      <th>3</th>\n",
       "      <td>Train-04</td>\n",
       "      <td>71.88</td>\n",
       "      <td>O=C1c2ccccc2C(=O)c2cc(-c3ccc(-c4cccs4)s3)ccc21</td>\n",
       "      <td>372.470</td>\n",
       "      <td>4</td>\n",
       "      <td>0</td>\n",
       "      <td>5.9190</td>\n",
       "      <td>0.793825</td>\n",
       "      <td>4.948903</td>\n",
       "      <td>34.14</td>\n",
       "      <td>...</td>\n",
       "      <td>0.886320</td>\n",
       "      <td>0.579059</td>\n",
       "      <td>0.345148</td>\n",
       "      <td>0.246564</td>\n",
       "      <td>0.276259</td>\n",
       "      <td>0.381997</td>\n",
       "      <td>0.495304</td>\n",
       "      <td>0.566935</td>\n",
       "      <td>0.594203</td>\n",
       "      <td>0.614075</td>\n",
       "    </tr>\n",
       "    <tr>\n",
       "      <th>4</th>\n",
       "      <td>Train-05</td>\n",
       "      <td>68.37</td>\n",
       "      <td>CC(C)(C)OC(=O)n1ccc2ccc(-c3ccc(-c4ccc(-c5cccs5...</td>\n",
       "      <td>457.620</td>\n",
       "      <td>5</td>\n",
       "      <td>0</td>\n",
       "      <td>8.5485</td>\n",
       "      <td>0.671148</td>\n",
       "      <td>5.994751</td>\n",
       "      <td>31.23</td>\n",
       "      <td>...</td>\n",
       "      <td>0.487723</td>\n",
       "      <td>0.245764</td>\n",
       "      <td>0.249019</td>\n",
       "      <td>0.363222</td>\n",
       "      <td>0.474953</td>\n",
       "      <td>0.505358</td>\n",
       "      <td>0.440671</td>\n",
       "      <td>0.330129</td>\n",
       "      <td>0.234649</td>\n",
       "      <td>0.183111</td>\n",
       "    </tr>\n",
       "  </tbody>\n",
       "</table>\n",
       "<p>5 rows × 146 columns</p>\n",
       "</div>"
      ],
      "text/plain": [
       "   Batch_ID     T80                                             Smiles  \\\n",
       "0  Train-01  103.86             CCCCCCCCCCCCc1ccsc1-c1ccc(-c2cccs2)cc1   \n",
       "1  Train-02  101.13                        CCCCCCCCCCCCc1ccsc1-c1cccs1   \n",
       "2  Train-03   78.30  CN1CCN(S(=O)(=O)c2ccc(-c3ccc(-c4cccs4)cc3)cc2)CC1   \n",
       "3  Train-04   71.88     O=C1c2ccccc2C(=O)c2cc(-c3ccc(-c4cccs4)s3)ccc21   \n",
       "4  Train-05   68.37  CC(C)(C)OC(=O)n1ccc2ccc(-c3ccc(-c4ccc(-c5cccs5...   \n",
       "\n",
       "      Mass  HAcceptors  HDonors    LogP  Asphericity        Rg   TPSA  ...  \\\n",
       "0  410.692           2        0  9.6070     0.301361  5.187321   0.00  ...   \n",
       "1  334.594           2        0  7.9400     0.367472  4.141425   0.00  ...   \n",
       "2  398.553           4        0  4.0182     0.799589  5.368024  40.62  ...   \n",
       "3  372.470           4        0  5.9190     0.793825  4.948903  34.14  ...   \n",
       "4  457.620           5        0  8.5485     0.671148  5.994751  31.23  ...   \n",
       "\n",
       "    SDOS4.5   SDOS4.6   SDOS4.7   SDOS4.8   SDOS4.9   SDOS5.0   SDOS5.1  \\\n",
       "0  1.717761  1.970186  1.760071  1.224983  0.664733  0.282353  0.096763   \n",
       "1  0.012396  0.046031  0.133124  0.299840  0.525958  0.718549  0.764711   \n",
       "2  2.421162  2.703267  2.352276  1.595867  0.845839  0.354620  0.127878   \n",
       "3  0.886320  0.579059  0.345148  0.246564  0.276259  0.381997  0.495304   \n",
       "4  0.487723  0.245764  0.249019  0.363222  0.474953  0.505358  0.440671   \n",
       "\n",
       "    SDOS5.2   SDOS5.3   SDOS5.4  \n",
       "0  0.034589  0.030793  0.057340  \n",
       "1  0.634854  0.414866  0.225909  \n",
       "2  0.060600  0.064782  0.098908  \n",
       "3  0.566935  0.594203  0.614075  \n",
       "4  0.330129  0.234649  0.183111  \n",
       "\n",
       "[5 rows x 146 columns]"
      ]
     },
     "metadata": {},
     "output_type": "display_data"
    },
    {
     "data": {
      "text/plain": [
       "(42, 146)"
      ]
     },
     "metadata": {},
     "output_type": "display_data"
    }
   ],
   "source": [
    "train_df = pd.read_csv(\"../data/train.csv\")\n",
    "test_df = pd.read_csv(\"../data/test.csv\")\n",
    "display(train_df[].head())\n",
    "display(train_df.shape)"
   ]
  },
  {
   "cell_type": "markdown",
   "metadata": {},
   "source": [
    "Like most genomic data, we're dealing with a p > n situation, i.e. the number of features exceed the number of observations in the dataset. If we're not careful, it'll be very easy to overfit on the dataset. We'll have to do some major feature selection and engineering.\n",
    "\n",
    "Potential techniques to try are:\n",
    "- Lasso and Elastic Net Regression\n",
    "- Bootstrap samples\n",
    "- SVM\n"
   ]
  },
  {
   "cell_type": "markdown",
   "metadata": {},
   "source": [
    "Let's first look at the string columns in the dataset, which appear to be just 'Smiles'"
   ]
  },
  {
   "cell_type": "code",
   "execution_count": 13,
   "metadata": {},
   "outputs": [
    {
     "data": {
      "text/plain": [
       "Batch_ID    object\n",
       "Smiles      object\n",
       "dtype: object"
      ]
     },
     "metadata": {},
     "output_type": "display_data"
    }
   ],
   "source": [
    "display(train_df.dtypes[train_df.dtypes == 'object'])"
   ]
  },
  {
   "cell_type": "markdown",
   "metadata": {},
   "source": [
    "According to the Kaggle link, the SMILES variable is a text representation of the molecule. It'll be a challenge working with this data.\n",
    "\n",
    "https://www.sciencedirect.com/science/article/pii/S2589004224003481"
   ]
  },
  {
   "cell_type": "code",
   "execution_count": 15,
   "metadata": {},
   "outputs": [
    {
     "data": {
      "text/plain": [
       "0                CCCCCCCCCCCCc1ccsc1-c1ccc(-c2cccs2)cc1\n",
       "1                           CCCCCCCCCCCCc1ccsc1-c1cccs1\n",
       "2     CN1CCN(S(=O)(=O)c2ccc(-c3ccc(-c4cccs4)cc3)cc2)CC1\n",
       "3        O=C1c2ccccc2C(=O)c2cc(-c3ccc(-c4cccs4)s3)ccc21\n",
       "4     CC(C)(C)OC(=O)n1ccc2ccc(-c3ccc(-c4ccc(-c5cccs5...\n",
       "5     c1csc(-c2ccc(-c3ccc(-c4ccc5c(c4)C4(c6ccccc6Oc6...\n",
       "6     CC(C)(C)OC(=O)CN1C(=O)CCc2cc(-c3ccc(-c4cccs4)s...\n",
       "7         Cc1cc(-c2ccc(-c3ccc(-c4cccs4)s3)cc2)c2nnnn2c1\n",
       "8     CCCCCCCCCCCCc1ccsc1-c1ccc(-c2ccc(-c3ccc(-c4ccc...\n",
       "9     Cc1ccc(-c2ccc(-c3ccc(-c4cccs4)s3)cc2)cc1Cc1ccc...\n",
       "10    CC(NC(=O)OC(C)(C)C)c1ccc(-c2ccc(-c3ccc(-c4cccs...\n",
       "11    c1ccc([Si](c2ccccc2)(c2ccccc2)c2cccc(-c3ccc(-c...\n",
       "12    CCCCC(CC)COc1c2cc(-c3ccc4oc(-c5ccc(N(c6ccccc6)...\n",
       "13    CC(C)(C)c1ccc(-c2ccc(C(C)(C)C)cc2-c2cc3sc(-c4c...\n",
       "14    Cc1ccc(NC(=O)OC(C)(C)C)cc1-c1cc2sc(-c3ccc(-c4c...\n",
       "15    CCCCC(CC)COc1c2cc(-c3cccc(-c4c5ccccc5c(-c5cccc...\n",
       "16    CCCCC(CC)COc1c2cc(-c3ccc4oc(-c5ccc6[nH]c(-c7cc...\n",
       "17    c1ccc(C(c2ccccc2)(c2ccccc2)n2cnc(-c3ccc(-c4ccc...\n",
       "18    CCCCC(CC)COc1c2cc(-c3ccc(-c4nc(C#N)cs4)[se]3)s...\n",
       "19    CCCCC(CC)COc1c2cc(-c3ccc4oc(-c5cccc([Si](c6ccc...\n",
       "20    Cc1cc(N2CCN(C)CC2)ncc1-c1cc2sc(-c3ccc(-c4cccs4...\n",
       "21    CCCCC(CC)COc1c2cc(-c3ccc4oc(-c5ccc6c(c5)CCC(=O...\n",
       "22    CCCCC(CC)COc1c2cc(-c3cccc(-c4cc(OCc5ccccc5)cc(...\n",
       "23    CCCCC(CC)COc1c2cc(-c3cccc(N4CCCC4)c3C=O)sc2c(O...\n",
       "24    CCCCC(CC)COc1c2cc(-c3ccc4oc(-c5cnc(N6CCN(C)CC6...\n",
       "25    Cc1cc(N2CCN(C)CC2)ncc1-c1ccc(-c2ccc(-c3ccc(-c4...\n",
       "26    CCCCCCCCCCCCc1ccsc1-c1cc2sc(-c3ccc(-c4cccs4)s3...\n",
       "27    CCCCCCCCCCCCc1ccsc1-c1ccc(-c2ccc(-c3cccs3)s2)[...\n",
       "28    CC(C)(C)OC(=O)N1CCc2nc(-c3ccc(-c4ccc(-c5cccs5)...\n",
       "29    CCCCC(CC)COc1c2cc(-c3ccc(C=CC(=O)O)cc3F)sc2c(O...\n",
       "30    COc1ccc(CNc2ccc([N+](=O)[O-])cc2-c2cccc(-c3ccc...\n",
       "31    CCCCC(CC)COc1c2cc(-c3cccc(S(=O)(=O)N4CCC4)c3)s...\n",
       "32    CCCCC(CC)COc1c2cc(-c3ccc4oc(-c5c(C(=O)OCC)[nH]...\n",
       "33    CCCCC(CC)COc1c2cc(-c3cccc(-c4cc(S(=O)(=O)O)c(N...\n",
       "34    CCCCC(CC)COc1c2cc(-c3ccc(-c4ccc(-c5ccc(Nc6ncnc...\n",
       "35    CCCCC(CC)COc1c2cc(-c3ccc(-c4ccc(C)s4)[se]3)sc2...\n",
       "36    c1ccc(-c2c3ccccc3c(-c3ccc(-c4cccs4)s3)c3ccccc2...\n",
       "37    CCCCC(CC)COc1c2cc(-c3ccc(-c4cc(N)c(N)c(C(=O)OC...\n",
       "38    CCCCC(CC)COc1c2cc(-c3ccc(-c4ccc(-c5cc(-c6csc(C...\n",
       "39    CCCCC(CC)COc1c2cc(-c3cc4sc(-c5ccc(S(=O)(=O)NCC...\n",
       "40                          c3cc(c2ccc(c1ccncc1)s2)ccn3\n",
       "41    CCCCCCc2c(CCCCCC)c(c1cccc(OC)c1)sc2c3ccc(C(=O)...\n",
       "Name: Smiles, dtype: object"
      ]
     },
     "execution_count": 15,
     "metadata": {},
     "output_type": "execute_result"
    }
   ],
   "source": [
    "train_df['Smiles']"
   ]
  },
  {
   "cell_type": "code",
   "execution_count": null,
   "metadata": {},
   "outputs": [],
   "source": []
  }
 ],
 "metadata": {
  "kernelspec": {
   "display_name": "data1030",
   "language": "python",
   "name": "python3"
  },
  "language_info": {
   "codemirror_mode": {
    "name": "ipython",
    "version": 3
   },
   "file_extension": ".py",
   "mimetype": "text/x-python",
   "name": "python",
   "nbconvert_exporter": "python",
   "pygments_lexer": "ipython3",
   "version": "3.12.5"
  }
 },
 "nbformat": 4,
 "nbformat_minor": 2
}
